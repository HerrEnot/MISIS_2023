{
 "cells": [
  {
   "cell_type": "markdown",
   "id": "baking-ranking",
   "metadata": {},
   "source": [
    "# Урок 6\n"
   ]
  },
  {
   "cell_type": "markdown",
   "id": "external-ladder",
   "metadata": {},
   "source": [
    "### 0 ДЗ\n",
    "### 1 '__main__'\n",
    "### 2 Telegram\n"
   ]
  },
  {
   "cell_type": "markdown",
   "id": "incorporated-labor",
   "metadata": {},
   "source": [
    "# ДЗ"
   ]
  },
  {
   "cell_type": "code",
   "execution_count": 20,
   "id": "06c026a2",
   "metadata": {},
   "outputs": [
    {
     "name": "stdout",
     "output_type": "stream",
     "text": [
      "Номер 0 --> 1\n",
      "Номер 1 --> 2\n",
      "Номер 2 --> 3\n",
      "Номер 3 --> Б\n",
      "Номер 4 --> Что-то\n"
     ]
    }
   ],
   "source": [
    "# 6.1 - Создать функцию, которая просто печатает все элементы заданного ей списка\n",
    "def print_list(my_list):\n",
    "    for i, j in enumerate(my_list):\n",
    "        print(f'Номер {i} --> {j}')\n",
    "\n",
    "\n",
    "# Тут подается на вход строка через пробел\n",
    "print_list(my_list=[1, 2, 3, 'Б', 'Что-то'])"
   ]
  },
  {
   "cell_type": "code",
   "execution_count": 22,
   "id": "712ba1bc",
   "metadata": {},
   "outputs": [
    {
     "name": "stdout",
     "output_type": "stream",
     "text": [
      "пап пап ппп апа пап \n",
      "пап\n",
      "пап\n",
      "ппп\n",
      "апа\n",
      "пап\n",
      "\n",
      "Слов в строке: 6 \n",
      "\n",
      "Частота встречаемости слова пап: 50.0\n",
      "Частота встречаемости слова пап: 50.0\n",
      "Частота встречаемости слова ппп: 16.67\n",
      "Частота встречаемости слова апа: 16.67\n",
      "Частота встречаемости слова пап: 50.0\n",
      "Частота встречаемости слова : 16.67\n"
     ]
    }
   ],
   "source": [
    "#7.2 - Посчитать вес каждого слова в строке\n",
    "def print_slova(spisok):\n",
    "    for i,j in enumerate(spisok):\n",
    "        print(j)\n",
    "    print('Слов в строке:', i + 1, '\\n')\n",
    "    \n",
    "    for i,j in enumerate(spisok):\n",
    "        print(f'Частота встречаемости слова {j}:', round(spisok.count(j) / len(spisok) * 100, 2))\n",
    "\n",
    "print_slova(spisok = input().split(' ')) #Тут подается на вход фраза"
   ]
  },
  {
   "cell_type": "code",
   "execution_count": 23,
   "id": "5c32d58f",
   "metadata": {},
   "outputs": [],
   "source": [
    "def extension_check(file_name, valid_extensions=[]):\n",
    "    file_extension = file_name.split('.')[-1]\n",
    "    if file_extension in valid_extensions:\n",
    "        return 'Musho gusto!'\n",
    "    else:\n",
    "        return 'Bruh'"
   ]
  },
  {
   "cell_type": "markdown",
   "id": "7a202786",
   "metadata": {},
   "source": [
    "Слейте воедино три словаря\n",
    "\n"
   ]
  },
  {
   "cell_type": "code",
   "execution_count": 25,
   "id": "6312bf3b",
   "metadata": {},
   "outputs": [
    {
     "data": {
      "text/plain": [
       "{1: 10, 2: 20, 3: 30, 4: 40, 5: 50, 6: 60, 7: 70, 8: 80}"
      ]
     },
     "execution_count": 25,
     "metadata": {},
     "output_type": "execute_result"
    }
   ],
   "source": [
    "dict_a = {1:10, 2:20}\n",
    "dict_b = {3:30, 4:40}\n",
    "dict_c = {5:50, 6:60}\n",
    "\n",
    "def dicts_extension(*args):\n",
    "\n",
    "    result = args[0]\n",
    "\n",
    "    for dict_ in args:\n",
    "        result.update(dict_)\n",
    "    return result\n",
    "\n",
    "dicts_extension(dict_a,dict_b, dict_c, {7:70, 8:80})"
   ]
  },
  {
   "cell_type": "markdown",
   "id": "b6ee9762",
   "metadata": {},
   "source": [
    "Нужно проверить, все ли числа в последовательности уникальны.\n"
   ]
  },
  {
   "cell_type": "code",
   "execution_count": 26,
   "id": "be60c9fe",
   "metadata": {},
   "outputs": [
    {
     "name": "stdout",
     "output_type": "stream",
     "text": [
      "All numbers are unique, magic!\n"
     ]
    }
   ],
   "source": [
    "def all_uniq(array):\n",
    "    temp_count_dict = dict.fromkeys(array)\n",
    "    for key in temp_count_dict:\n",
    "        temp_count_dict[key] = array.count(key)\n",
    "\n",
    "    if len(list(temp_count_dict.values())) == len(array):\n",
    "        print('All numbers are unique, magic!')\n",
    "    else:\n",
    "        print('Bruh...')\n",
    "\n",
    "all_uniq([1,2,3,9, -100])"
   ]
  },
  {
   "cell_type": "markdown",
   "id": "cfbe7f25",
   "metadata": {},
   "source": [
    "Создать функцию, которая просто печатает все элементы заданного ей списка: НОМЕР J --> ЗНАЧЕНИЕ НОМЕР K --> ЗНАЧЕНИЕ J, K — порядковые номера в списке\n",
    "\n"
   ]
  },
  {
   "cell_type": "code",
   "execution_count": 27,
   "id": "385c8322",
   "metadata": {},
   "outputs": [
    {
     "name": "stdout",
     "output_type": "stream",
     "text": [
      "НОМЕР 0 --> я\n",
      "НОМЕР 1 --> не\n",
      "НОМЕР 2 --> в\n",
      "НОМЕР 3 --> отпуск\n"
     ]
    }
   ],
   "source": [
    "def print_list(my_list):\n",
    "    # ваш код тут\n",
    "    if len(my_list)==0:\n",
    "        print('Bruh...')\n",
    "    else:\n",
    "        for i in range(len(my_list)):\n",
    "            print(f'НОМЕР {i} --> {my_list[i]}')\n",
    "print_list([\"я\", \"не\", \"в\", \"отпуск\" ])"
   ]
  },
  {
   "cell_type": "markdown",
   "id": "37cd3d80",
   "metadata": {},
   "source": [
    "Создать функцию, которая печатает каждый элемент словарика\n",
    "\n"
   ]
  },
  {
   "cell_type": "code",
   "execution_count": 28,
   "id": "9c3971a4",
   "metadata": {},
   "outputs": [
    {
     "name": "stdout",
     "output_type": "stream",
     "text": [
      "КЛЮЧ <<key1>> --> 2\n",
      "КЛЮЧ <<key3>> --> False\n",
      "КЛЮЧ <<Приветствие>> --> Hello\n"
     ]
    }
   ],
   "source": [
    "def print_dict(my_dict):\n",
    "    # ваш код тут\n",
    "    if len(my_dict)==0:\n",
    "        print('Bruh...')\n",
    "    else:\n",
    "        for key in my_dict.keys():\n",
    "            print(f'КЛЮЧ <<{key}>> --> {my_dict[key]}')\n",
    "        \n",
    "print_dict({\"key1\": 2, \"key3\": False, \"Приветствие\": \"Hello\"})"
   ]
  },
  {
   "cell_type": "code",
   "execution_count": 29,
   "id": "15312ee2",
   "metadata": {},
   "outputs": [
    {
     "name": "stdout",
     "output_type": "stream",
     "text": [
      "КЛЮЧ <<1>> --> 0\n",
      "КЛЮЧ <<cheat>> --> kjkszpj\n",
      "КЛЮЧ <<Ronaldo>> --> SIUUUU\n"
     ]
    }
   ],
   "source": [
    "check_dict = {'1':0, 'cheat':'kjkszpj', 'Ronaldo':'SIUUUU'}\n",
    "print_dict(check_dict)"
   ]
  },
  {
   "cell_type": "markdown",
   "id": "83714a6f",
   "metadata": {},
   "source": [
    "Сделать функцию, которая использует две уже написанные функции следующим образом:\n",
    "\n",
    "если ЗНАЧЕНИЕ это LIST --> вызывается print_list\n",
    "\n",
    "если ЗНАЧЕНИЕ это DICT --> вызывается print_dict\n",
    "\n",
    "во всех других случаях просто выводится ЗНАЧЕНИЕ"
   ]
  },
  {
   "cell_type": "code",
   "execution_count": 30,
   "id": "e4385a0f",
   "metadata": {},
   "outputs": [
    {
     "name": "stdout",
     "output_type": "stream",
     "text": [
      "1\n",
      "НОМЕР 0 --> 1\n",
      "НОМЕР 1 --> 2\n",
      "НОМЕР 2 --> 3\n",
      "НОМЕР 3 --> 4\n",
      "Hello\n",
      "КЛЮЧ <<ciao>> --> Mondo\n",
      "КЛЮЧ <<Привет>> --> О дивный мир\n"
     ]
    }
   ],
   "source": [
    "def print_overlord(mydict):\n",
    "    # ваш код тут\n",
    "    if len(mydict)==0:\n",
    "        print('Double Bruh...')\n",
    "    else:\n",
    "        for value in mydict.values():\n",
    "            if isinstance(value, list):\n",
    "                print_list(value)\n",
    "            elif isinstance(value, dict):\n",
    "                print_dict(value)\n",
    "            else:\n",
    "                print(value)\n",
    "\n",
    "print_overlord(dict(key1=1,\n",
    "            key2=[1, 2, 3, 4], \n",
    "            key3='Hello', \n",
    "            key4={\"ciao\":\"Mondo\", \"Привет\": \"О дивный мир\"}))"
   ]
  },
  {
   "cell_type": "markdown",
   "id": "858fa1f9",
   "metadata": {},
   "source": [
    "# __main__"
   ]
  },
  {
   "cell_type": "markdown",
   "id": "43a94022",
   "metadata": {},
   "source": [
    "В различных руководствах по Python часто используется функция main(). Но иногда это может быть и лишним.\n",
    "\n"
   ]
  },
  {
   "cell_type": "markdown",
   "id": "5c2c549a",
   "metadata": {},
   "source": [
    "Лаконичность — важный элемент программирования. И вполне логично задавать вопрос о том, зачем разработчику добавлять лишние строки в программу. Функция main() требует дополнительных строк, но она служит определенной цели.\n",
    "\n"
   ]
  },
  {
   "cell_type": "markdown",
   "id": "ce9aefdf",
   "metadata": {},
   "source": [
    "Main — это специальная функция, которая позволяет добавить больше логики в структуру программ. В Python можно вызвать функцию в нижней части программы, которая и будет запущена. Рассмотрим такой пример:\n",
    "\n"
   ]
  },
  {
   "cell_type": "code",
   "execution_count": null,
   "id": "closed-reward",
   "metadata": {},
   "outputs": [],
   "source": [
    "def cookies():\n",
    "\tprint(\"Печенье вкусное!\")\n",
    "\n",
    "print(\"Дайте печенье.\")\n",
    "cookies()"
   ]
  },
  {
   "cell_type": "markdown",
   "id": "72ca09ba",
   "metadata": {},
   "source": [
    "Можно увидеть, что выражение «Дайте печенье.» выводится до «Печенье вкусное!», потому что метод cookies() не вызывается вплоть до последней строки, а именно в этой функции хранится предложение «Печенье вкусное!».\n",
    "\n",
    "Такой код работает, но его довольно сложно читать. В таких языках программирования, как C++ и Java весь основной код программы хранится внутри основной функции. Это хороший способ для распределения всего кода программы. Те, кто только знакомится с Python, но уже работал, например, с C++ будут благодарны за использование функции main()."
   ]
  },
  {
   "cell_type": "markdown",
   "id": "457bd176",
   "metadata": {},
   "source": [
    "Есть две части основной функции Python. Первая — сама функция main(). В ней хранится код основной программы. Вызовем функцию cookies() и выведем выражение «Дайте печенье.» из функции main():\n",
    "\n"
   ]
  },
  {
   "cell_type": "code",
   "execution_count": 3,
   "id": "fatty-essay",
   "metadata": {},
   "outputs": [],
   "source": [
    "def cookies():\n",
    "\tprint(\"Печенье вкусное!\")\n",
    "\n",
    "def main():\n",
    "\tprint(\"Дайте печенье.\")\n",
    "\tcookies()"
   ]
  },
  {
   "cell_type": "markdown",
   "id": "0720a521",
   "metadata": {},
   "source": [
    "Теперь вызовем функцию в конце программы:\n",
    "\n"
   ]
  },
  {
   "cell_type": "code",
   "execution_count": 4,
   "id": "acknowledged-thriller",
   "metadata": {},
   "outputs": [
    {
     "name": "stdout",
     "output_type": "stream",
     "text": [
      "Дайте печенье.\n",
      "Печенье вкусное!\n"
     ]
    }
   ],
   "source": [
    "main()\n"
   ]
  },
  {
   "cell_type": "markdown",
   "id": "a401ac30",
   "metadata": {},
   "source": [
    "Результат не поменялся. Но теперь сам код читать легче. Пусть в нем и больше строк (и одна дополнительная строка), вполне очевидно, что именно происходит:\n",
    "\n"
   ]
  },
  {
   "cell_type": "markdown",
   "id": "f8b4e847",
   "metadata": {},
   "source": [
    "Cookies() — функция, которая выводит «Печенье вкусное!».\n",
    "\n",
    "\n",
    "Когда программа запускается, определяются две функции: cookies() и main().\n",
    "\n",
    "Затем функция main() вызывается.\n",
    "\n",
    "«Дайте печенье.» выводится в консоли.\n",
    "\n",
    "\n",
    "Затем вызывается функция cookies(), которая выводит в консоль «Печенье вкусное!».\n",
    "\n",
    "Код не только чище, но и логичнее. Если вы пришли из другого языка, например, Java, но знаете, насколько это удобно."
   ]
  },
  {
   "cell_type": "markdown",
   "id": "uniform-northwest",
   "metadata": {},
   "source": [
    "## Значение __name__\n"
   ]
  },
  {
   "cell_type": "markdown",
   "id": "elect-tyler",
   "metadata": {},
   "source": [
    "Прежде чем переходить к инструкциям __name__ и __main__, которые часто используются вместе, нужно обсудить __name__. __name__ хранит название программы.\n",
    "\n",
    "Если запустить файл прямо, то значением __name__ будет __main__. Предположим, что файл называется print_name.py:"
   ]
  },
  {
   "cell_type": "code",
   "execution_count": null,
   "id": "czech-allen",
   "metadata": {},
   "outputs": [],
   "source": [
    "print(__name__)\n"
   ]
  },
  {
   "cell_type": "markdown",
   "id": "daad9fc8",
   "metadata": {},
   "source": [
    "Этот код можно запустить следующим образом:\n",
    "\n"
   ]
  },
  {
   "cell_type": "code",
   "execution_count": null,
   "id": "contemporary-spyware",
   "metadata": {},
   "outputs": [],
   "source": [
    "python print_name.py\n"
   ]
  },
  {
   "cell_type": "markdown",
   "id": "bf022bc0",
   "metadata": {},
   "source": [
    "Он вернет __main__.\n",
    "\n"
   ]
  },
  {
   "cell_type": "markdown",
   "id": "7c81dd46",
   "metadata": {},
   "source": [
    "Предположим, что этот код был импортирован в качестве модуля в файл main.py:\n",
    "\n"
   ]
  },
  {
   "cell_type": "code",
   "execution_count": null,
   "id": "dress-stewart",
   "metadata": {},
   "outputs": [],
   "source": [
    "import print_name"
   ]
  },
  {
   "cell_type": "markdown",
   "id": "b617e110",
   "metadata": {},
   "source": [
    "Запустим его:"
   ]
  },
  {
   "cell_type": "code",
   "execution_count": null,
   "id": "located-location",
   "metadata": {},
   "outputs": [],
   "source": [
    "python main.py"
   ]
  },
  {
   "cell_type": "markdown",
   "id": "134d8fd6",
   "metadata": {},
   "source": [
    "Код вернет:\n",
    "\n"
   ]
  },
  {
   "cell_type": "code",
   "execution_count": null,
   "id": "experienced-karaoke",
   "metadata": {},
   "outputs": [],
   "source": [
    "print_name\n"
   ]
  },
  {
   "cell_type": "markdown",
   "id": "371dd76e",
   "metadata": {},
   "source": [
    "Код внутри print_name.py исполняется потому что он был импортирован в качестве модуля в основной программе. Файл print_name выводит __name__ в консоль. Поскольку print_name был импортирован в качестве модуля, то и значением __name__ является print_name."
   ]
  },
  {
   "cell_type": "code",
   "execution_count": null,
   "id": "sized-dryer",
   "metadata": {},
   "outputs": [],
   "source": [
    "\n"
   ]
  },
  {
   "cell_type": "markdown",
   "id": "2bad16ca",
   "metadata": {},
   "source": [
    "Вы наверняка встречали следующую конструкцию в программах на Python в функции main:\n",
    "\n"
   ]
  },
  {
   "cell_type": "code",
   "execution_count": null,
   "id": "1070803f",
   "metadata": {},
   "outputs": [],
   "source": [
    "if __name__ == __main__ в Python"
   ]
  },
  {
   "cell_type": "markdown",
   "id": "ef838928",
   "metadata": {},
   "source": [
    "Что она значит? В Python любая переменная, начинающаяся с двух символов нижнего подчеркивания (__), является специальной. Это зарезервированные значения, которые выполняют определенную роль в программе."
   ]
  },
  {
   "cell_type": "markdown",
   "id": "684b3b64",
   "metadata": {},
   "source": [
    "__main__ указывает на область видимости, где будет выполняться код. Если запустить Python-файл прямо, то значением __name__ будет __main__. Если же его запустить в качестве модуля, то значением будет уже не __main__, а название модуля."
   ]
  },
  {
   "cell_type": "markdown",
   "id": "ac4b721b",
   "metadata": {},
   "source": [
    "Это значит, что строка выше вернет True только в том случае, если программа будет запущена прямо.\n",
    "\n"
   ]
  },
  {
   "cell_type": "markdown",
   "id": "44274f75",
   "metadata": {},
   "source": [
    "Если же ссылаться на файл как на модуль, то содержимое конструкции if не будет выполнено. Рассмотрим на примере."
   ]
  },
  {
   "cell_type": "markdown",
   "id": "d67d3b0d",
   "metadata": {},
   "source": [
    "Создадим новый скрипт на Python под названием username.py. В коде будем просить пользователя ввести его имя и проверять, не является ли его длина больше 5. Если символов не больше 5, то попросим ввести имя снова.\n",
    "\n",
    "Начнем с определения глобальной переменной для хранения имени пользователя:"
   ]
  },
  {
   "cell_type": "code",
   "execution_count": null,
   "id": "f0363f88",
   "metadata": {},
   "outputs": [],
   "source": [
    "username = \"\"\n"
   ]
  },
  {
   "cell_type": "markdown",
   "id": "d017c829",
   "metadata": {},
   "source": [
    "После этого определим две функции. Первая будет просить пользователя ввести имя пользователя и проверять, не больше ли 5 символов в нем. Вторая будет выводить значение в оболочке Python:\n",
    "\n"
   ]
  },
  {
   "cell_type": "code",
   "execution_count": 7,
   "id": "mobile-integer",
   "metadata": {},
   "outputs": [],
   "source": [
    "def choose_username():\n",
    "\tglobal username\n",
    "\tusername = input(\"Введите логин: \")\n",
    "\tif len(username) > 5:\n",
    "\t\tprint(\"Ваш логин сохранен.\")\n",
    "\telse:\n",
    "\t\tprint(\"Пожалуйста, выберите имя пользователя длиной более пяти символов.\")\n",
    "\t\tchoose_username()\n",
    "\n",
    "def print_username():\n",
    "\tprint(username)"
   ]
  },
  {
   "cell_type": "markdown",
   "id": "9335ac98",
   "metadata": {},
   "source": [
    "#### Отступление 1"
   ]
  },
  {
   "cell_type": "markdown",
   "id": "ff90d405",
   "metadata": {},
   "source": [
    "Переменная, доступ к которой можно получить из любого места в коде, называется глобальной. Ее можно определить вне блока. Другими словами, глобальная переменная, объявленная вне функции, будет доступна внутри нее.\n",
    "\n"
   ]
  },
  {
   "cell_type": "markdown",
   "id": "eccc2853",
   "metadata": {},
   "source": [
    "С другой стороны, переменная, объявленная внутри определенного блока кода, будет видна только внутри этого же блока — она называется локальной.\n",
    "\n"
   ]
  },
  {
   "cell_type": "markdown",
   "id": "5c6e8984",
   "metadata": {},
   "source": [
    "Пример локальных и глобальных переменных\n"
   ]
  },
  {
   "cell_type": "code",
   "execution_count": null,
   "id": "magnetic-cartoon",
   "metadata": {},
   "outputs": [],
   "source": [
    "def sum():  \n",
    "    a = 10   # локальные переменные \n",
    "    b = 20  \n",
    "    c = a + b  \n",
    "    print(\"Сумма:\", c)  \n",
    "  \n",
    "sum() "
   ]
  },
  {
   "cell_type": "code",
   "execution_count": null,
   "id": "underlying-waters",
   "metadata": {},
   "outputs": [],
   "source": [
    "Переменная объявлена внутри функции и может использоваться только в ней. Получить доступ к этой локальной функции в других нельзя.\n",
    "\n"
   ]
  },
  {
   "cell_type": "markdown",
   "id": "41deb081",
   "metadata": {},
   "source": [
    "Для решения этой проблемы используются глобальные переменные.\n",
    "\n",
    "Теперь взгляните на этот пример с глобальными переменными:"
   ]
  },
  {
   "cell_type": "code",
   "execution_count": null,
   "id": "chinese-frederick",
   "metadata": {},
   "outputs": [],
   "source": [
    "a = 20  # определены вне функции\n",
    "b = 10  \n",
    "\n",
    "\n",
    "def sum():  \n",
    "    c = a + b  # Использование глобальных переменных  \n",
    "    print(\"Сумма:\", c)  \n",
    "\n",
    "  \n",
    "def sub():  \n",
    "    d = a - b  # Использование глобальных переменных \n",
    "    print(\"Разница:\", d)  \n",
    "  \n",
    "  \n",
    "sum()\n",
    "sub()"
   ]
  },
  {
   "cell_type": "markdown",
   "id": "7f9e6b39",
   "metadata": {},
   "source": [
    "В этом коде были объявлены две глобальные переменные: a и b. Они используются внутри функций sum() и sub(). Обе возвращают результат при вызове.\n",
    "\n"
   ]
  },
  {
   "cell_type": "markdown",
   "id": "ba474b7b",
   "metadata": {},
   "source": [
    "Если определить локальную переменную с тем же именем, то приоритет будет у нее. Посмотрите, как в функции msg это реализовано.\n",
    "\n"
   ]
  },
  {
   "cell_type": "code",
   "execution_count": 14,
   "id": "spoken-printer",
   "metadata": {},
   "outputs": [
    {
     "name": "stdout",
     "output_type": "stream",
     "text": [
      "ывыв!\n",
      "ывыв!\n"
     ]
    }
   ],
   "source": [
    "# m = \"ывыв!\"  # глобальная переменная\n",
    "\n",
    "def msg():  \n",
    "    m = \"Привет, как дела?\"  \n",
    "    print(m)  \n",
    "  \n",
    "msg()  \n",
    "m = \"Отлично!\"  # глобальная переменная\n",
    "print(m) "
   ]
  },
  {
   "cell_type": "markdown",
   "id": "f16e4685",
   "metadata": {},
   "source": [
    "Здесь была объявлена локальная переменная с таким же именем, как и у глобальной. Сперва выводится значение локальной, а после этого — глобальной.\n",
    "\n"
   ]
  },
  {
   "cell_type": "code",
   "execution_count": null,
   "id": "unique-december",
   "metadata": {},
   "outputs": [],
   "source": [
    "Ключевое слово global\n"
   ]
  },
  {
   "cell_type": "markdown",
   "id": "e573fb77",
   "metadata": {},
   "source": [
    "Python предлагает ключевое слово global, которое используется для изменения значения глобальной переменной в функции. Оно нужно для изменения значения. Вот некоторые правила по работе с глобальными переменными.\n",
    "\n"
   ]
  },
  {
   "cell_type": "markdown",
   "id": "loose-drove",
   "metadata": {},
   "source": [
    "#### Правила использования global\n",
    "    Если значение определено на выходе функции, то оно автоматически станет глобальной переменной.\n",
    "    Ключевое слово global используется для объявления глобальной переменной внутри функции.\n",
    "    Нет необходимости использовать global для объявления глобальной переменной вне функции.\n",
    "    Переменные, на которые есть ссылка внутри функции, неявно являются глобальными."
   ]
  },
  {
   "cell_type": "markdown",
   "id": "583e1300",
   "metadata": {},
   "source": [
    "Пример без использования глобального ключевого слова.\n",
    "\n"
   ]
  },
  {
   "cell_type": "code",
   "execution_count": 8,
   "id": "british-instrumentation",
   "metadata": {
    "collapsed": true
   },
   "outputs": [
    {
     "ename": "UnboundLocalError",
     "evalue": "local variable 'c' referenced before assignment",
     "output_type": "error",
     "traceback": [
      "\u001b[0;31m---------------------------------------------------------------------------\u001b[0m",
      "\u001b[0;31mUnboundLocalError\u001b[0m                         Traceback (most recent call last)",
      "Cell \u001b[0;32mIn [8], line 5\u001b[0m\n\u001b[1;32m      2\u001b[0m     c \u001b[38;5;241m=\u001b[39m c \u001b[38;5;241m*\u001b[39m \u001b[38;5;241m10\u001b[39m \n\u001b[1;32m      3\u001b[0m     \u001b[38;5;28mprint\u001b[39m(c) \n\u001b[0;32m----> 5\u001b[0m mul()\n",
      "Cell \u001b[0;32mIn [8], line 2\u001b[0m, in \u001b[0;36mmul\u001b[0;34m()\u001b[0m\n\u001b[1;32m      1\u001b[0m \u001b[38;5;28;01mdef\u001b[39;00m \u001b[38;5;21mmul\u001b[39m():\n\u001b[0;32m----> 2\u001b[0m     c \u001b[38;5;241m=\u001b[39m \u001b[43mc\u001b[49m \u001b[38;5;241m*\u001b[39m \u001b[38;5;241m10\u001b[39m \n\u001b[1;32m      3\u001b[0m     \u001b[38;5;28mprint\u001b[39m(c)\n",
      "\u001b[0;31mUnboundLocalError\u001b[0m: local variable 'c' referenced before assignment"
     ]
    }
   ],
   "source": [
    "\n",
    "\n",
    "def mul():\n",
    "    c = c * 10 \n",
    "    print(c) \n",
    "\n",
    "mul() "
   ]
  },
  {
   "cell_type": "markdown",
   "id": "9196c494",
   "metadata": {},
   "source": [
    "Этот код вернул ошибку, потому что была предпринята попытка присвоить значение глобальной переменной. Изменять значение можно только с помощью ключевого слова global.\n",
    "\n"
   ]
  },
  {
   "cell_type": "code",
   "execution_count": 43,
   "id": "criminal-integer",
   "metadata": {
    "collapsed": true
   },
   "outputs": [
    {
     "name": "stdout",
     "output_type": "stream",
     "text": [
      "Значение в функции: 100\n",
      "Значение вне функции: 100\n"
     ]
    }
   ],
   "source": [
    "c = 10  \n",
    "\n",
    "\n",
    "def mul():\n",
    "    global c\n",
    "    c = c * 10 \n",
    "    print(\"Значение в функции:\", c)  \n",
    "\n",
    "mul()  \n",
    "print(\"Значение вне функции:\", c)  "
   ]
  },
  {
   "cell_type": "markdown",
   "id": "cd662325",
   "metadata": {},
   "source": [
    "Здесь переменная c была объявлена в функции mul() с помощью ключевого слова global. Ее значение умножается на 10 и становится равным 100. В процессе работы программы можно увидеть, что изменение значения внутри функции отражается на глобальном значении переменной.\n",
    "\n"
   ]
  },
  {
   "cell_type": "markdown",
   "id": "b0a77ff0",
   "metadata": {},
   "source": [
    "1. Создаем файл name.py для хранения глобальных переменных:\n",
    "\n"
   ]
  },
  {
   "cell_type": "code",
   "execution_count": null,
   "id": "closing-manhattan",
   "metadata": {},
   "outputs": [],
   "source": [
    "a = 10 \n",
    "b = 20 \n",
    "msg = \"Hello World\""
   ]
  },
  {
   "cell_type": "markdown",
   "id": "032f4135",
   "metadata": {},
   "source": [
    "2. Создаем файл change.py для изменения переменных:"
   ]
  },
  {
   "cell_type": "code",
   "execution_count": null,
   "id": "handmade-blanket",
   "metadata": {},
   "outputs": [],
   "source": [
    "import name\n",
    "\n",
    "name.a = 15  \n",
    "name.b = 25\n",
    "name.msg = \"Dood bye\"  "
   ]
  },
  {
   "cell_type": "markdown",
   "id": "22a3aac2",
   "metadata": {},
   "source": [
    "Меняем значения a, b и msg. Эти переменные были объявлены внутри name, и для их изменения модуль нужно было импортировать.\n",
    "\n"
   ]
  },
  {
   "cell_type": "markdown",
   "id": "3d591c7b",
   "metadata": {},
   "source": [
    "3. В третий файл выводим значения измененных глобальных переменных.\n",
    "\n"
   ]
  },
  {
   "cell_type": "code",
   "execution_count": null,
   "id": "public-throat",
   "metadata": {},
   "outputs": [],
   "source": [
    "import name\n",
    "import change\n",
    "\n",
    "print(name.a) \n",
    "print(name.b)\n",
    "print(name.msg)"
   ]
  },
  {
   "cell_type": "code",
   "execution_count": null,
   "id": "ordinary-vacation",
   "metadata": {},
   "outputs": [],
   "source": [
    "15\n",
    "25\n",
    "Dood bye"
   ]
  },
  {
   "cell_type": "markdown",
   "id": "aa6ac839",
   "metadata": {},
   "source": [
    "###### Global во вложенных функциях\n"
   ]
  },
  {
   "cell_type": "code",
   "execution_count": 44,
   "id": "smoking-tokyo",
   "metadata": {},
   "outputs": [
    {
     "name": "stdout",
     "output_type": "stream",
     "text": [
      "Перед изменением: 15\n",
      "Внесение изменений\n",
      "После изменения: 15\n",
      "Значение a: 20\n"
     ]
    }
   ],
   "source": [
    "def add():\n",
    "    a = 15\n",
    "  \n",
    "    def modify():\n",
    "        global a\n",
    "        a = 20\n",
    "\n",
    "    print(\"Перед изменением:\", a)\n",
    "    print(\"Внесение изменений\")\n",
    "    modify()\n",
    "    print(\"После изменения:\", a)\n",
    "\n",
    "\n",
    "add()\n",
    "print(\"Значение a:\", a)  "
   ]
  },
  {
   "cell_type": "markdown",
   "id": "75cb8cc9",
   "metadata": {},
   "source": [
    "В этом коде значение внутри add() принимает значение локальной переменной x = 15. В modify() оно переназначается и принимает значение 20 благодаря global. Это и отображается в переменной функции add().\n",
    "\n"
   ]
  },
  {
   "cell_type": "markdown",
   "id": "51db0a38",
   "metadata": {},
   "source": [
    "https://younglinux.info/python/local-global"
   ]
  },
  {
   "cell_type": "markdown",
   "id": "31793ee9",
   "metadata": {},
   "source": [
    "###### возращаемся к нашим ibaranam"
   ]
  },
  {
   "cell_type": "code",
   "execution_count": 31,
   "id": "forty-assignment",
   "metadata": {},
   "outputs": [],
   "source": [
    "def choose_username():\n",
    "\tglobal username\n",
    "\tusername = input(\"Введите логин: \")\n",
    "\tif len(username) > 5:\n",
    "\t\tprint(\"Ваш логин сохранен.\")\n",
    "\telse:\n",
    "\t\tprint(\"Пожалуйста, выберите имя пользователя длиной более пяти символов.\")\n",
    "\t\tchoose_username()\n",
    "\n",
    "def print_username():\n",
    "\tprint(username)"
   ]
  },
  {
   "cell_type": "markdown",
   "id": "832116eb",
   "metadata": {},
   "source": [
    "В этом примере использовалось ключевое слово global, чтобы содержимое, присвоенное в методе choose_username(), было доступно глобально. После определения функций нужно создать main, которая и будет их вызывать:\n",
    "\n"
   ]
  },
  {
   "cell_type": "code",
   "execution_count": 32,
   "id": "sharp-thursday",
   "metadata": {},
   "outputs": [],
   "source": [
    "def main():\n",
    "\tchoose_username()\n",
    "\tprint_username()"
   ]
  },
  {
   "cell_type": "markdown",
   "id": "3ab7eef4",
   "metadata": {},
   "source": [
    "После этого нужно добавить if __name__=\"__main__\" в инструкцию if. Это значит, что при запуске файла прямо, интерпретатор Python исполнит две функции. Если же запустить код в качестве модуля, то содержимое внутри main() исполнено не будет.\n",
    "\n"
   ]
  },
  {
   "cell_type": "code",
   "execution_count": null,
   "id": "liable-edmonton",
   "metadata": {},
   "outputs": [],
   "source": [
    "if __name__ == \"__main__\":\n",
    "\tmain()"
   ]
  },
  {
   "cell_type": "code",
   "execution_count": 33,
   "id": "pointed-ceremony",
   "metadata": {},
   "outputs": [
    {
     "ename": "SyntaxError",
     "evalue": "invalid syntax (2389004691.py, line 1)",
     "output_type": "error",
     "traceback": [
      "\u001b[0;36m  Cell \u001b[0;32mIn [33], line 1\u001b[0;36m\u001b[0m\n\u001b[0;31m    python username.py\u001b[0m\n\u001b[0m           ^\u001b[0m\n\u001b[0;31mSyntaxError\u001b[0m\u001b[0;31m:\u001b[0m invalid syntax\n"
     ]
    }
   ],
   "source": [
    "python username.py"
   ]
  },
  {
   "cell_type": "code",
   "execution_count": null,
   "id": "thick-melissa",
   "metadata": {},
   "outputs": [],
   "source": [
    "Введите логин: mylogin\n",
    "Ваш логин сохранен.\n",
    "mylogin"
   ]
  },
  {
   "cell_type": "markdown",
   "id": "92e4a2ec",
   "metadata": {},
   "source": [
    "Этот код запускает функцию choose_username(), а затем — print_username(). Если указать имя длиной меньше 4 символов, то ответ будет таким:\n",
    "\n"
   ]
  },
  {
   "cell_type": "markdown",
   "id": "d9c1aaee",
   "metadata": {},
   "source": [
    "Будет предложено ввести другое имя. Если импортировать этот код в качестве модуля, то функция main() не запустится."
   ]
  },
  {
   "cell_type": "markdown",
   "id": "ec7f3b60",
   "metadata": {},
   "source": [
    "-----"
   ]
  },
  {
   "cell_type": "markdown",
   "id": "d337b426",
   "metadata": {},
   "source": [
    " __main__.py это лучший способ для взаимодействия с питоновскими модулями, состоящими из нескольких файлов."
   ]
  },
  {
   "cell_type": "markdown",
   "id": "680bf267",
   "metadata": {},
   "source": [
    "Однажды вы напишете программу, которую захотите использовать и как импортируемый модуль, и как инструмент запускаемый из командной строки. мы уже в курсе, как обычно поступают в этом случае:"
   ]
  },
  {
   "cell_type": "code",
   "execution_count": null,
   "id": "dominican-focus",
   "metadata": {},
   "outputs": [],
   "source": [
    "if __name__ == '__main__':\n",
    "    main(sys.argv)"
   ]
  },
  {
   "cell_type": "markdown",
   "id": "e9d1ecae",
   "metadata": {},
   "source": [
    "Когда вы скармливаете скрипт интерпретатору, магическая глобальная переменная __name__ получает значение __main__. Таким образом мы узнаём, что это не импорт, а именно запуск. Например:\n",
    "\n"
   ]
  },
  {
   "cell_type": "code",
   "execution_count": null,
   "id": "appreciated-fleece",
   "metadata": {},
   "outputs": [],
   "source": [
    "python myapp.py\n"
   ]
  },
  {
   "cell_type": "markdown",
   "id": "a41fe40d",
   "metadata": {},
   "source": [
    "И это прекрасно работает для одиночного файла.\n",
    "\n"
   ]
  },
  {
   "cell_type": "markdown",
   "id": "f2d86e09",
   "metadata": {},
   "source": [
    " но если мы  не захотим, чтобы всё наше приложение теснилось в единственном файле. Разбиение логики по разным файлам упрощает редактирование и поддержку. Например:"
   ]
  },
  {
   "cell_type": "code",
   "execution_count": null,
   "id": "annual-pulse",
   "metadata": {},
   "outputs": [],
   "source": [
    ".\n",
    "├── README.me\n",
    "├── requirements.txt\n",
    "├── setup.py\n",
    "└── src\n",
    "    ├── __init__.py\n",
    "    ├── client.py\n",
    "    ├── logic.py\n",
    "    ├── models.py\n",
    "    └── run.py"
   ]
  },
  {
   "cell_type": "markdown",
   "id": "70f7173a",
   "metadata": {},
   "source": [
    "Но пользователю, который склонировал проект из репозитория будет непонятно — какой из этих файлов главный? Неужели run.py? А может client.py? Где же искать знакомую строку if __name__ == '__main__'? Вот здесь-то __main__.py и способен проявить себя."
   ]
  },
  {
   "cell_type": "markdown",
   "id": "3e356e95",
   "metadata": {},
   "source": [
    "Файл __main__.py вызывается при запуске проекта с флагом модуля — -m. И это весьма удобно, если код предназначен и для использования в качестве модуля, и для запуска из консоли. Думайте об этом файле, как о месте куда можно класть всё, что вы обычно кладёте внутрь if __name__ == '__main__'. Давайте изменим проект из примера выше соответственно:"
   ]
  },
  {
   "cell_type": "code",
   "execution_count": null,
   "id": "ultimate-smart",
   "metadata": {},
   "outputs": [],
   "source": [
    "__main__.py\n"
   ]
  },
  {
   "cell_type": "markdown",
   "id": "793546c2",
   "metadata": {},
   "source": [
    "И, вуаля! Теперь можно просто запускать проект как обычный модуль.\n",
    "\n"
   ]
  },
  {
   "cell_type": "markdown",
   "id": "8b6ace0e",
   "metadata": {},
   "source": [
    "python -m myapp\n"
   ]
  },
  {
   "cell_type": "markdown",
   "id": "ad1037a9",
   "metadata": {},
   "source": [
    "__main__.py будет выполняться автоматически. Это идеальное место для размещения интерфейса командной строки и обработки входных аргументов!\n",
    "\n"
   ]
  },
  {
   "cell_type": "markdown",
   "id": "544a0f35",
   "metadata": {},
   "source": [
    "# Практикум!"
   ]
  },
  {
   "cell_type": "markdown",
   "id": "3fd110d9",
   "metadata": {},
   "source": [
    "закрепляющая задачка. С примерно 9 вариантами сложности"
   ]
  },
  {
   "cell_type": "markdown",
   "id": "0aee0dbf",
   "metadata": {},
   "source": [
    "Суть всей задачки"
   ]
  },
  {
   "cell_type": "markdown",
   "id": "3837ceab",
   "metadata": {},
   "source": [
    "Мы хотим обрабатывать кучу чисел на вход, которые получаем от пользователя и выводить по ним некоторую статистику. А именно, считать минимальное, среднее и максимальное значение в последовательности, разброс, медиану и три перцентиля: 25, 50 и 75. Дополнительно посчитайте скользящее среднее с шириной окна 5 по вводимой последовательности.\n",
    "\n"
   ]
  },
  {
   "attachments": {
    "image.png": {
     "image/png": "[encoded data removed]"
    }
   },
   "cell_type": "markdown",
   "id": "d111a266",
   "metadata": {},
   "source": [
    "![image.png](attachment:image.png)"
   ]
  },
  {
   "cell_type": "markdown",
   "id": "1638c736",
   "metadata": {},
   "source": [
    "Не переживайте, сейчас разберёмся, я не зря сказал что тут 9 варивантов сложности.\n",
    "\n"
   ]
  },
  {
   "cell_type": "markdown",
   "id": "fd9faafb",
   "metadata": {},
   "source": [
    "Смотрите — можно сказать, что есть три варианта сложности на входе:\n",
    "\n"
   ]
  },
  {
   "cell_type": "markdown",
   "id": "c1a93fe0",
   "metadata": {},
   "source": [
    "1 Функция сразу получает список чисел на вход\n"
   ]
  },
  {
   "cell_type": "markdown",
   "id": "c88824b6",
   "metadata": {},
   "source": [
    "не надо делать никаких проверок, никаких выкрутасов\n",
    "просто берёте список и считаете по нему что-нибудь"
   ]
  },
  {
   "cell_type": "markdown",
   "id": "9fcf1a83",
   "metadata": {},
   "source": [
    "2 Функция получает список чисел на вход как input пользователя\n"
   ]
  },
  {
   "cell_type": "markdown",
   "id": "436f2532",
   "metadata": {},
   "source": [
    "    можно сделать так, что пользоваль вводит числа по одному\n",
    "    можно попросить всю строку и потом уже токенизировать её\n",
    "    если правильно всё сделать, то после конвертации просто вызываете вашу реализацию для простого списка\n",
    "    можно заморочиться и подумать про всякую нерелвантную фигню которую вводил пользователь и отсеивать её. На пустой список выдавать предупреждение что ничего не было введено, а всё, что не int/float во вводе игноририровать, но выводить уведомление об этом (типа \"Вот это ты поехал, чувак. XXX не число.\")"
   ]
  },
  {
   "cell_type": "markdown",
   "id": "52812e4d",
   "metadata": {},
   "source": [
    "3 Функция получает список чисел, прочитав их из файла\n"
   ]
  },
  {
   "cell_type": "markdown",
   "id": "1b599ca3",
   "metadata": {},
   "source": [
    "    в самом простом варианте — одно число на строчку\n",
    "    чуть посложнее — читать просто все числа, даже если они не одни на строчку\n",
    "    если правильно всё сделать, то после того как вы прочитали числа из файла и сделали из них список, можно дёргать функцию из другого примера"
   ]
  },
  {
   "cell_type": "markdown",
   "id": "0a98d32d",
   "metadata": {},
   "source": [
    "Ну и так же можно придумать три варианта для \"выхода\":\n",
    "\n"
   ]
  },
  {
   "cell_type": "markdown",
   "id": "2133cd1c",
   "metadata": {},
   "source": [
    "4 Считать только прямые метрики minimum, maximum и арифметическое среднее\n"
   ]
  },
  {
   "cell_type": "markdown",
   "id": "9211d4d1",
   "metadata": {},
   "source": [
    "    можно использовать встроенные функции min/max/sum\n",
    "    число элементов в списке это просто его длина, len"
   ]
  },
  {
   "cell_type": "markdown",
   "id": "6e610810",
   "metadata": {},
   "source": [
    "5 Считать ещё медиану и перцентили\n"
   ]
  },
  {
   "cell_type": "markdown",
   "id": "318abe02",
   "metadata": {},
   "source": [
    "    для этого надо будет отсортировать список\n",
    "    медиана считается по-разному для чётного и нечётного числа элементов\n",
    "    25 перцентиль это элемент последовательности такой, что 25% последовательности не превышают это значение\n",
    "    75 перцентиль это элемент последовательности такой, что 75% последовательности не превышают это значение\n",
    "    25 и 75 перцентиль иногда называют первым и третим квартилем"
   ]
  },
  {
   "cell_type": "markdown",
   "id": "55af7d1b",
   "metadata": {},
   "source": [
    "6 Посчитать простое скользящее среднее (Simple Moving Average) по этим значениям с окном n=5\n"
   ]
  },
  {
   "cell_type": "markdown",
   "id": "c624646d",
   "metadata": {},
   "source": [
    "    окно n=5 означает что скользящее среднее считается по первые 5 элементов\n",
    "    попробуйте написать код так чтобы там не было явного суммирования l[i] + l[i-1] + l[i-2] + l[i-3] + l[i-4], и его можно было бы быстро адаптировать под окно с n=3\n"
   ]
  },
  {
   "cell_type": "markdown",
   "id": "eae6aa1f",
   "metadata": {},
   "source": [
    "Если, условно, сделать простое перемножение то получаем 3x3 вариантов задания. Конечно, когда будете это всё, старайтесь переиспользовать свои же решения и тогда получится меньше.\n",
    "\n"
   ]
  },
  {
   "cell_type": "markdown",
   "id": "f4002034",
   "metadata": {},
   "source": [
    "###### На этом месте я предлагаю вам остановиться и попробовать сделать всё совсем без подсказок. Когда потыкаетесь, возвращайтесь к заготовкам\n"
   ]
  },
  {
   "cell_type": "markdown",
   "id": "b7cc4bdf",
   "metadata": {},
   "source": [
    "---"
   ]
  },
  {
   "cell_type": "markdown",
   "id": "37444823",
   "metadata": {},
   "source": [
    "###### Exercise 1.3.0"
   ]
  },
  {
   "cell_type": "markdown",
   "id": "365527ce",
   "metadata": {},
   "source": [
    "1 Создать функцию, которая на вход принимает список, и печатает минимальное. среднее и максимальное значение в последовательности. Типа такого:\n",
    "\n"
   ]
  },
  {
   "cell_type": "markdown",
   "id": "338cda0f",
   "metadata": {},
   "source": [
    "    Разброс от MIN_ЗНАЧЕНИЕ до MAX_ЗНАЧЕНИЕ\n",
    "    Среднее: ЗНАЧЕНИЕ"
   ]
  },
  {
   "cell_type": "markdown",
   "id": "c3824697",
   "metadata": {},
   "source": [
    "Всё каждый раз на новой строчке. Все числа печатайте с не более чем 3 знаками после запятой.\n",
    "\n"
   ]
  },
  {
   "cell_type": "markdown",
   "id": "26b74a1f",
   "metadata": {},
   "source": [
    "Подсказка: тут можно (и нужно) использовать встроенные в питон функции для нахождения максимального элемента последовательности. Но если хотите «угореть по хардкору», то напишите свои."
   ]
  },
  {
   "cell_type": "code",
   "execution_count": 9,
   "id": "a590f27f",
   "metadata": {},
   "outputs": [],
   "source": [
    "def function_1_3_0(some_list):\n",
    "    min_znach = 0\n",
    "    max_znach = 100\n",
    "    average = 42\n",
    "    print(\"Разброс от %.03f до %.03f\" % (min_znach, max_znach))\n",
    "    print(f\"Среднее: {average:03f}\")"
   ]
  },
  {
   "cell_type": "code",
   "execution_count": 10,
   "id": "6fcf4255",
   "metadata": {},
   "outputs": [
    {
     "name": "stdout",
     "output_type": "stream",
     "text": [
      "Разброс от 0.000 до 100.000\n",
      "Среднее: 42.000000\n"
     ]
    }
   ],
   "source": [
    "function_1_3_0([2, 2, 2, 4, 6, 2, 2, 2, 7])\n"
   ]
  },
  {
   "cell_type": "code",
   "execution_count": null,
   "id": "520aa65d",
   "metadata": {},
   "outputs": [],
   "source": [
    "---"
   ]
  },
  {
   "cell_type": "markdown",
   "id": "7cd622e4",
   "metadata": {},
   "source": [
    "###### Exercise 1.3.1"
   ]
  },
  {
   "cell_type": "markdown",
   "id": "19c0ddf3",
   "metadata": {},
   "source": [
    "Получите ввод от пользователя, токенизируйте строку и просто воспользуйтесь тем, что уже написано выше.\n",
    "\n"
   ]
  },
  {
   "cell_type": "markdown",
   "id": "e369062b",
   "metadata": {},
   "source": [
    "Подсказка: как только вы получили список из того, что вводил вам пользователь, не мешкая вызывайте функцию из предыдущего задания, передавая ей в качестве аргумента ваш список. Для приведения строки к числу используйте конструкцию типа float(\"4.27\")\n",
    "\n"
   ]
  },
  {
   "cell_type": "code",
   "execution_count": 11,
   "id": "0663c4d4",
   "metadata": {},
   "outputs": [],
   "source": [
    "\n",
    "def function_1_3_1():\n",
    "    user_input = input(\"Введите несколько чисел через пробел \")\n",
    "    # input_list = ...\n",
    "    # function_1_3_0(input_list)"
   ]
  },
  {
   "cell_type": "code",
   "execution_count": 12,
   "id": "c65ecaf3",
   "metadata": {},
   "outputs": [
    {
     "name": "stdout",
     "output_type": "stream",
     "text": [
      "Введите несколько чисел через пробел 23 232 2323 \n"
     ]
    }
   ],
   "source": [
    "function_1_3_1()"
   ]
  },
  {
   "cell_type": "markdown",
   "id": "604ae1c3",
   "metadata": {},
   "source": [
    "Для того, чтобы сделать следующий уровень и прочитать из файла, придётся дочитать сначала до конца. Поэтому пока можете сделать остальные части\n",
    "\n"
   ]
  },
  {
   "cell_type": "markdown",
   "id": "f6d46f40",
   "metadata": {},
   "source": [
    "###### Exercise 1.3.2"
   ]
  },
  {
   "cell_type": "markdown",
   "id": "f2acacd8",
   "metadata": {},
   "source": [
    "Выводить медиану и квантили для заданной последовательности\n",
    "\n"
   ]
  },
  {
   "cell_type": "markdown",
   "id": "6ce9dab8",
   "metadata": {},
   "source": [
    "      Медиана последовательности: MEDIAN\n",
    "        q25: VAL, q50: VAL, q75: VAL"
   ]
  },
  {
   "cell_type": "markdown",
   "id": "73325673",
   "metadata": {},
   "source": [
    "Подсказка: сортировать список можно двумя способами. Один это через sorted(l), а другое через l.sort(). Второе сортирует список in-place и потом у вас ваш список l будет всё время отсортирован, а другая возвращает отсортированную копию исходного списка. Ещё вам может пригодится оператор целочисленного деления // и оператор модуля, %.\n",
    "\n"
   ]
  },
  {
   "cell_type": "code",
   "execution_count": 13,
   "id": "8a563298",
   "metadata": {},
   "outputs": [],
   "source": [
    "def function_1_3_2(some_list):\n",
    "    # сначала -- показать уже имплементированные метрики\n",
    "    function_1_3_0(some_list)\n",
    "    # тут надо сначала отсортировать\n",
    "    total_elements = len(some_list)\n",
    "    if total_elements % 2 == 1:\n",
    "        # В этом списке нечётное число элементов\n",
    "        median = some_list[total_elements // 10]\n",
    "    else:\n",
    "        # В этом списке нечётное число элементов\n",
    "        median = -273\n",
    "    print(\"Медиана последовательности:\", median)\n",
    "    print(\"q25: 50, q50: 42, q75: -1\")"
   ]
  },
  {
   "cell_type": "code",
   "execution_count": 14,
   "id": "b34c04ae",
   "metadata": {},
   "outputs": [
    {
     "name": "stdout",
     "output_type": "stream",
     "text": [
      "Разброс от 0.000 до 100.000\n",
      "Среднее: 42.000000\n",
      "Медиана последовательности: 2\n",
      "q25: 50, q50: 42, q75: -1\n"
     ]
    }
   ],
   "source": [
    "function_1_3_2([2, 2, 2, 4, 6, 72, 75, 7, 10])\n"
   ]
  },
  {
   "cell_type": "markdown",
   "id": "b18a6db1",
   "metadata": {},
   "source": [
    "Вы же понимаете, да, что весь код который я писал для примера в функции можно выкинуть и переписать, он скорее всего чрезмерно дурацкий? Понимаете? Ну вот и отлично.\n",
    "\n"
   ]
  },
  {
   "cell_type": "markdown",
   "id": "913181bf",
   "metadata": {},
   "source": [
    "###### Нерегулярная рубрика «вопрос на понимание»"
   ]
  },
  {
   "cell_type": "markdown",
   "id": "f71e8edb",
   "metadata": {},
   "source": [
    "Вот мы посчитали для какой-нибудь нашей последовательности что q75 будет 127, медиана 100, а q25 только 30. Что-нибудь можно по этим значениям сказать про эту последовательность?\n",
    "\n"
   ]
  },
  {
   "cell_type": "markdown",
   "id": "3cd6437b",
   "metadata": {},
   "source": [
    "###### Exercise 1.3.3*"
   ]
  },
  {
   "cell_type": "markdown",
   "id": "f608c92e",
   "metadata": {},
   "source": [
    "Несмотря на то что оно со звёздочкой, его всё равно стоит сделать. Тут вам надо домыслить какую-нибудь одобряющую цитата откуда-нибудь.\n",
    "\n"
   ]
  },
  {
   "cell_type": "markdown",
   "id": "4a1d28a9",
   "metadata": {},
   "source": [
    "Посчитать по заданной последовательности SMA с окном 5. Для примеря я покжау как будет выглядеть такая последовательность для окна 3:\n",
    "\n"
   ]
  },
  {
   "attachments": {
    "image.png": {
     "image/png": "[encoded data removed]"
    }
   },
   "cell_type": "markdown",
   "id": "2728b20d",
   "metadata": {},
   "source": [
    "\n",
    "![image.png](attachment:image.png)"
   ]
  },
  {
   "cell_type": "markdown",
   "id": "4ef7ebb8",
   "metadata": {},
   "source": [
    "Первых двух элементов просто не будет, но начиная с третьего вы берёте накопившиеся к этому элементы и делите их на три. Заполните сами последние три строчки в правом столбце.\n"
   ]
  },
  {
   "cell_type": "markdown",
   "id": "c5d54281",
   "metadata": {},
   "source": [
    "Если это построить, то выглядит как-то так"
   ]
  },
  {
   "attachments": {
    "image.png": {
     "image/png": "[encoded data removed]"
    }
   },
   "cell_type": "markdown",
   "id": "fed89269",
   "metadata": {},
   "source": [
    "![image.png](attachment:image.png)"
   ]
  },
  {
   "cell_type": "code",
   "execution_count": 17,
   "id": "3b0b3e4f",
   "metadata": {},
   "outputs": [],
   "source": [
    "\n",
    "def function_1_3_3(some_list):\n",
    "    function_1_3_2(some_list) # сначала вызовем то что есть\n",
    "    i = 0\n",
    "    for j in range(5, len(some_list)): # с пятого\n",
    "        s = some_list[j] + some_list[i]\n",
    "        # ...\n",
    "    print(\"SMA-последовательность:\\n\", [4, 8, 15, 16, 23, 42])\n",
    "    # тут надо что-то напечатать или вернуть новый список"
   ]
  },
  {
   "cell_type": "code",
   "execution_count": 18,
   "id": "d0755a9f",
   "metadata": {},
   "outputs": [
    {
     "name": "stdout",
     "output_type": "stream",
     "text": [
      "Разброс от 0.000 до 100.000\n",
      "Среднее: 42.000000\n",
      "Медиана последовательности: -273\n",
      "q25: 50, q50: 42, q75: -1\n",
      "SMA-последовательность:\n",
      " [4, 8, 15, 16, 23, 42]\n"
     ]
    }
   ],
   "source": [
    "function_1_3_3([7, 11, 6, 15, 6, 10, 9, 7, 11, 12, 14, 11])\n"
   ]
  },
  {
   "cell_type": "code",
   "execution_count": null,
   "id": "4a4952c8",
   "metadata": {},
   "outputs": [],
   "source": []
  },
  {
   "cell_type": "code",
   "execution_count": null,
   "id": "7d0e2994",
   "metadata": {},
   "outputs": [],
   "source": [
    "Exercise 1.3.4"
   ]
  },
  {
   "cell_type": "code",
   "execution_count": null,
   "id": "a3619996",
   "metadata": {},
   "outputs": [],
   "source": [
    "Прочитать введённые пользователем данные из файла и по ним уже вывести посчитанную нами статистику"
   ]
  },
  {
   "cell_type": "code",
   "execution_count": null,
   "id": "5b6bfb03",
   "metadata": {},
   "outputs": [],
   "source": [
    "Подсказка: делать это упражнение без сделанного 1.3.1 может оказаться слишком сложно\n",
    "\n"
   ]
  },
  {
   "cell_type": "code",
   "execution_count": null,
   "id": "b04166c2",
   "metadata": {},
   "outputs": [],
   "source": [
    "def function_1_3_4(file_path):\n",
    "    list_of_numbers_from_file = []\n",
    "    with open(file_path) as fp:\n",
    "        for line in fp:\n",
    "            print(line)\n",
    "            list_of_numbers_from_file.append(12)\n",
    "    print(\"Collected numbers\\n\", list_of_numbers_from_file, \"\\n\")\n",
    "    function_1_3_3(list_of_numbers_from_file)"
   ]
  },
  {
   "cell_type": "code",
   "execution_count": null,
   "id": "d30c7335",
   "metadata": {},
   "outputs": [],
   "source": [
    "function_1_3_4(\"some_file.txt\")\n"
   ]
  },
  {
   "cell_type": "markdown",
   "id": "7d3e220f",
   "metadata": {},
   "source": [
    "На этом пока всё. Всего что мы тут в этой тетрадке обсудили должно быть достаточно чтобы сделать таки любое количество вариантов исходной задачи."
   ]
  },
  {
   "cell_type": "markdown",
   "id": "e681560e",
   "metadata": {},
   "source": [
    "Ну вот теперь когда вы уже подопухли, сделайте перерыв и давайте дальше поговорим ещё про штуки в питоне.\n",
    "\n"
   ]
  },
  {
   "cell_type": "code",
   "execution_count": null,
   "id": "cc9c95d5",
   "metadata": {},
   "outputs": [],
   "source": []
  },
  {
   "cell_type": "code",
   "execution_count": null,
   "id": "39d0aa7a",
   "metadata": {},
   "outputs": [],
   "source": []
  },
  {
   "cell_type": "code",
   "execution_count": null,
   "id": "17e925fb",
   "metadata": {},
   "outputs": [],
   "source": []
  },
  {
   "cell_type": "code",
   "execution_count": null,
   "id": "21a61867",
   "metadata": {},
   "outputs": [],
   "source": []
  },
  {
   "cell_type": "code",
   "execution_count": null,
   "id": "704fe636",
   "metadata": {},
   "outputs": [],
   "source": []
  }
 ],
 "metadata": {
  "kernelspec": {
   "display_name": "Python 3 (ipykernel)",
   "language": "python",
   "name": "python3"
  },
  "language_info": {
   "codemirror_mode": {
    "name": "ipython",
    "version": 3
   },
   "file_extension": ".py",
   "mimetype": "text/x-python",
   "name": "python",
   "nbconvert_exporter": "python",
   "pygments_lexer": "ipython3",
   "version": "3.10.6"
  },
  "toc": {
   "base_numbering": 1,
   "nav_menu": {},
   "number_sections": true,
   "sideBar": true,
   "skip_h1_title": false,
   "title_cell": "Table of Contents",
   "title_sidebar": "Contents",
   "toc_cell": false,
   "toc_position": {},
   "toc_section_display": true,
   "toc_window_display": false
  },
  "varInspector": {
   "cols": {
    "lenName": 16,
    "lenType": 16,
    "lenVar": 40
   },
   "kernels_config": {
    "python": {
     "delete_cmd_postfix": "",
     "delete_cmd_prefix": "del ",
     "library": "var_list.py",
     "varRefreshCmd": "print(var_dic_list())"
    },
    "r": {
     "delete_cmd_postfix": ") ",
     "delete_cmd_prefix": "rm(",
     "library": "var_list.r",
     "varRefreshCmd": "cat(var_dic_list()) "
    }
   },
   "types_to_exclude": [
    "module",
    "function",
    "builtin_function_or_method",
    "instance",
    "_Feature"
   ],
   "window_display": false
  }
 },
 "nbformat": 4,
 "nbformat_minor": 5
}
